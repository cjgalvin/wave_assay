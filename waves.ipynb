{
 "cells": [
  {
   "cell_type": "code",
   "execution_count": 14,
   "metadata": {},
   "outputs": [],
   "source": [
    "import os\n",
    "\n",
    "import numpy as np\n",
    "import pandas as pd\n",
    "import scipy as sp\n",
    "    \n",
    "import matplotlib.pyplot as plt"
   ]
  },
  {
   "cell_type": "code",
   "execution_count": 4,
   "metadata": {},
   "outputs": [],
   "source": [
    "os.chdir(r\"C:\\Users\\05669\\Desktop\")"
   ]
  },
  {
   "cell_type": "code",
   "execution_count": 5,
   "metadata": {},
   "outputs": [],
   "source": [
    "waves = pd.read_csv(\"waves1.csv\")"
   ]
  },
  {
   "cell_type": "code",
   "execution_count": 7,
   "metadata": {},
   "outputs": [
    {
     "data": {
      "text/html": [
       "<div>\n",
       "<style scoped>\n",
       "    .dataframe tbody tr th:only-of-type {\n",
       "        vertical-align: middle;\n",
       "    }\n",
       "\n",
       "    .dataframe tbody tr th {\n",
       "        vertical-align: top;\n",
       "    }\n",
       "\n",
       "    .dataframe thead th {\n",
       "        text-align: right;\n",
       "    }\n",
       "</style>\n",
       "<table border=\"1\" class=\"dataframe\">\n",
       "  <thead>\n",
       "    <tr style=\"text-align: right;\">\n",
       "      <th></th>\n",
       "      <th>x</th>\n",
       "      <th>1</th>\n",
       "      <th>2</th>\n",
       "      <th>3</th>\n",
       "      <th>4</th>\n",
       "      <th>5</th>\n",
       "      <th>6</th>\n",
       "      <th>7</th>\n",
       "      <th>8</th>\n",
       "      <th>9</th>\n",
       "      <th>...</th>\n",
       "      <th>16</th>\n",
       "      <th>17</th>\n",
       "      <th>18</th>\n",
       "      <th>19</th>\n",
       "      <th>20</th>\n",
       "      <th>21</th>\n",
       "      <th>22</th>\n",
       "      <th>23</th>\n",
       "      <th>24</th>\n",
       "      <th>25</th>\n",
       "    </tr>\n",
       "  </thead>\n",
       "  <tbody>\n",
       "    <tr>\n",
       "      <th>0</th>\n",
       "      <td>0</td>\n",
       "      <td>250</td>\n",
       "      <td>1705.852744</td>\n",
       "      <td>2199.640043</td>\n",
       "      <td>2689.587144</td>\n",
       "      <td>2904.527550</td>\n",
       "      <td>3001.857328</td>\n",
       "      <td>3050.767321</td>\n",
       "      <td>2969.253776</td>\n",
       "      <td>3050.506741</td>\n",
       "      <td>...</td>\n",
       "      <td>2791.071343</td>\n",
       "      <td>2738.912219</td>\n",
       "      <td>2647.497793</td>\n",
       "      <td>2670.321082</td>\n",
       "      <td>2725.216395</td>\n",
       "      <td>2798.719747</td>\n",
       "      <td>2888.741655</td>\n",
       "      <td>2979.815898</td>\n",
       "      <td>3026.707474</td>\n",
       "      <td>2911.19836</td>\n",
       "    </tr>\n",
       "    <tr>\n",
       "      <th>1</th>\n",
       "      <td>1</td>\n",
       "      <td>250</td>\n",
       "      <td>1527.319072</td>\n",
       "      <td>2047.487212</td>\n",
       "      <td>2602.333041</td>\n",
       "      <td>2880.585824</td>\n",
       "      <td>2998.605251</td>\n",
       "      <td>3050.650733</td>\n",
       "      <td>2969.252642</td>\n",
       "      <td>3050.506739</td>\n",
       "      <td>...</td>\n",
       "      <td>2791.071343</td>\n",
       "      <td>2738.912219</td>\n",
       "      <td>2647.497793</td>\n",
       "      <td>2670.321082</td>\n",
       "      <td>2725.216395</td>\n",
       "      <td>2798.719747</td>\n",
       "      <td>2888.741655</td>\n",
       "      <td>2979.815898</td>\n",
       "      <td>3026.707474</td>\n",
       "      <td>2911.19836</td>\n",
       "    </tr>\n",
       "    <tr>\n",
       "      <th>2</th>\n",
       "      <td>2</td>\n",
       "      <td>250</td>\n",
       "      <td>1347.334847</td>\n",
       "      <td>1879.682502</td>\n",
       "      <td>2494.225369</td>\n",
       "      <td>2846.347090</td>\n",
       "      <td>2993.206072</td>\n",
       "      <td>3050.418730</td>\n",
       "      <td>2969.249908</td>\n",
       "      <td>3050.506730</td>\n",
       "      <td>...</td>\n",
       "      <td>2791.071343</td>\n",
       "      <td>2738.912219</td>\n",
       "      <td>2647.497793</td>\n",
       "      <td>2670.321082</td>\n",
       "      <td>2725.216395</td>\n",
       "      <td>2798.719747</td>\n",
       "      <td>2888.741655</td>\n",
       "      <td>2979.815898</td>\n",
       "      <td>3026.707474</td>\n",
       "      <td>2911.19836</td>\n",
       "    </tr>\n",
       "    <tr>\n",
       "      <th>3</th>\n",
       "      <td>3</td>\n",
       "      <td>250</td>\n",
       "      <td>1171.820577</td>\n",
       "      <td>1700.666469</td>\n",
       "      <td>2364.659449</td>\n",
       "      <td>2798.983632</td>\n",
       "      <td>2984.535299</td>\n",
       "      <td>3049.972156</td>\n",
       "      <td>2969.243538</td>\n",
       "      <td>3050.506706</td>\n",
       "      <td>...</td>\n",
       "      <td>2791.071343</td>\n",
       "      <td>2738.912219</td>\n",
       "      <td>2647.497793</td>\n",
       "      <td>2670.321082</td>\n",
       "      <td>2725.216395</td>\n",
       "      <td>2798.719747</td>\n",
       "      <td>2888.741655</td>\n",
       "      <td>2979.815898</td>\n",
       "      <td>3026.707474</td>\n",
       "      <td>2911.19836</td>\n",
       "    </tr>\n",
       "    <tr>\n",
       "      <th>4</th>\n",
       "      <td>4</td>\n",
       "      <td>250</td>\n",
       "      <td>1006.261078</td>\n",
       "      <td>1515.933934</td>\n",
       "      <td>2214.452963</td>\n",
       "      <td>2735.606498</td>\n",
       "      <td>2971.065805</td>\n",
       "      <td>3049.140669</td>\n",
       "      <td>2969.229177</td>\n",
       "      <td>3050.506641</td>\n",
       "      <td>...</td>\n",
       "      <td>2791.071343</td>\n",
       "      <td>2738.912219</td>\n",
       "      <td>2647.497793</td>\n",
       "      <td>2670.321082</td>\n",
       "      <td>2725.216395</td>\n",
       "      <td>2798.719747</td>\n",
       "      <td>2888.741655</td>\n",
       "      <td>2979.815898</td>\n",
       "      <td>3026.707474</td>\n",
       "      <td>2911.19836</td>\n",
       "    </tr>\n",
       "  </tbody>\n",
       "</table>\n",
       "<p>5 rows × 26 columns</p>\n",
       "</div>"
      ],
      "text/plain": [
       "   x    1            2            3            4            5            6  \\\n",
       "0  0  250  1705.852744  2199.640043  2689.587144  2904.527550  3001.857328   \n",
       "1  1  250  1527.319072  2047.487212  2602.333041  2880.585824  2998.605251   \n",
       "2  2  250  1347.334847  1879.682502  2494.225369  2846.347090  2993.206072   \n",
       "3  3  250  1171.820577  1700.666469  2364.659449  2798.983632  2984.535299   \n",
       "4  4  250  1006.261078  1515.933934  2214.452963  2735.606498  2971.065805   \n",
       "\n",
       "             7            8            9     ...               16  \\\n",
       "0  3050.767321  2969.253776  3050.506741     ...      2791.071343   \n",
       "1  3050.650733  2969.252642  3050.506739     ...      2791.071343   \n",
       "2  3050.418730  2969.249908  3050.506730     ...      2791.071343   \n",
       "3  3049.972156  2969.243538  3050.506706     ...      2791.071343   \n",
       "4  3049.140669  2969.229177  3050.506641     ...      2791.071343   \n",
       "\n",
       "            17           18           19           20           21  \\\n",
       "0  2738.912219  2647.497793  2670.321082  2725.216395  2798.719747   \n",
       "1  2738.912219  2647.497793  2670.321082  2725.216395  2798.719747   \n",
       "2  2738.912219  2647.497793  2670.321082  2725.216395  2798.719747   \n",
       "3  2738.912219  2647.497793  2670.321082  2725.216395  2798.719747   \n",
       "4  2738.912219  2647.497793  2670.321082  2725.216395  2798.719747   \n",
       "\n",
       "            22           23           24          25  \n",
       "0  2888.741655  2979.815898  3026.707474  2911.19836  \n",
       "1  2888.741655  2979.815898  3026.707474  2911.19836  \n",
       "2  2888.741655  2979.815898  3026.707474  2911.19836  \n",
       "3  2888.741655  2979.815898  3026.707474  2911.19836  \n",
       "4  2888.741655  2979.815898  3026.707474  2911.19836  \n",
       "\n",
       "[5 rows x 26 columns]"
      ]
     },
     "execution_count": 7,
     "metadata": {},
     "output_type": "execute_result"
    }
   ],
   "source": [
    "waves.head()"
   ]
  },
  {
   "cell_type": "code",
   "execution_count": 13,
   "metadata": {},
   "outputs": [
    {
     "data": {
      "image/png": "[encoded data removed]",
      "text/plain": [
       "<Figure size 432x288 with 1 Axes>"
      ]
     },
     "metadata": {
      "needs_background": "light"
     },
     "output_type": "display_data"
    }
   ],
   "source": [
    "for col in waves.columns[1:]:\n",
    "    plt.plot(waves[col])"
   ]
  },
  {
   "cell_type": "code",
   "execution_count": 16,
   "metadata": {},
   "outputs": [],
   "source": [
    "x0 = pd.read_csv(\"x0s.csv\")"
   ]
  },
  {
   "cell_type": "code",
   "execution_count": 24,
   "metadata": {},
   "outputs": [
    {
     "data": {
      "text/html": [
       "<div>\n",
       "<style scoped>\n",
       "    .dataframe tbody tr th:only-of-type {\n",
       "        vertical-align: middle;\n",
       "    }\n",
       "\n",
       "    .dataframe tbody tr th {\n",
       "        vertical-align: top;\n",
       "    }\n",
       "\n",
       "    .dataframe thead th {\n",
       "        text-align: right;\n",
       "    }\n",
       "</style>\n",
       "<table border=\"1\" class=\"dataframe\">\n",
       "  <thead>\n",
       "    <tr style=\"text-align: right;\">\n",
       "      <th></th>\n",
       "      <th>t</th>\n",
       "      <th>x0</th>\n",
       "    </tr>\n",
       "  </thead>\n",
       "  <tbody>\n",
       "    <tr>\n",
       "      <th>0</th>\n",
       "      <td>0</td>\n",
       "      <td>0.000000</td>\n",
       "    </tr>\n",
       "    <tr>\n",
       "      <th>1</th>\n",
       "      <td>1</td>\n",
       "      <td>1.365959</td>\n",
       "    </tr>\n",
       "    <tr>\n",
       "      <th>2</th>\n",
       "      <td>2</td>\n",
       "      <td>3.980308</td>\n",
       "    </tr>\n",
       "    <tr>\n",
       "      <th>3</th>\n",
       "      <td>3</td>\n",
       "      <td>7.284443</td>\n",
       "    </tr>\n",
       "    <tr>\n",
       "      <th>4</th>\n",
       "      <td>4</td>\n",
       "      <td>10.833032</td>\n",
       "    </tr>\n",
       "  </tbody>\n",
       "</table>\n",
       "</div>"
      ],
      "text/plain": [
       "   t         x0\n",
       "0  0   0.000000\n",
       "1  1   1.365959\n",
       "2  2   3.980308\n",
       "3  3   7.284443\n",
       "4  4  10.833032"
      ]
     },
     "execution_count": 24,
     "metadata": {},
     "output_type": "execute_result"
    }
   ],
   "source": [
    "x0.head()"
   ]
  },
  {
   "cell_type": "code",
   "execution_count": 22,
   "metadata": {},
   "outputs": [
    {
     "data": {
      "text/plain": [
       "[<matplotlib.lines.Line2D at 0x14447bb0>]"
      ]
     },
     "execution_count": 22,
     "metadata": {},
     "output_type": "execute_result"
    },
    {
     "data": {
      "image/png": "[encoded data removed]",
      "text/plain": [
       "<Figure size 432x288 with 1 Axes>"
      ]
     },
     "metadata": {
      "needs_background": "light"
     },
     "output_type": "display_data"
    }
   ],
   "source": [
    "plt.plot(x0[\"x0\"], \"bo\")"
   ]
  },
  {
   "cell_type": "code",
   "execution_count": 44,
   "metadata": {},
   "outputs": [
    {
     "data": {
      "text/html": [
       "<div>\n",
       "<style scoped>\n",
       "    .dataframe tbody tr th:only-of-type {\n",
       "        vertical-align: middle;\n",
       "    }\n",
       "\n",
       "    .dataframe tbody tr th {\n",
       "        vertical-align: top;\n",
       "    }\n",
       "\n",
       "    .dataframe thead th {\n",
       "        text-align: right;\n",
       "    }\n",
       "</style>\n",
       "<table border=\"1\" class=\"dataframe\">\n",
       "  <thead>\n",
       "    <tr style=\"text-align: right;\">\n",
       "      <th></th>\n",
       "      <th>t</th>\n",
       "      <th>x0</th>\n",
       "      <th>v</th>\n",
       "      <th>dvdt</th>\n",
       "    </tr>\n",
       "  </thead>\n",
       "  <tbody>\n",
       "    <tr>\n",
       "      <th>0</th>\n",
       "      <td>0</td>\n",
       "      <td>0.000000</td>\n",
       "      <td>0.000000</td>\n",
       "      <td>0.000000</td>\n",
       "    </tr>\n",
       "    <tr>\n",
       "      <th>1</th>\n",
       "      <td>1</td>\n",
       "      <td>1.365959</td>\n",
       "      <td>1.365959</td>\n",
       "      <td>1.365959</td>\n",
       "    </tr>\n",
       "    <tr>\n",
       "      <th>2</th>\n",
       "      <td>2</td>\n",
       "      <td>3.980308</td>\n",
       "      <td>2.614350</td>\n",
       "      <td>1.248391</td>\n",
       "    </tr>\n",
       "    <tr>\n",
       "      <th>3</th>\n",
       "      <td>3</td>\n",
       "      <td>7.284443</td>\n",
       "      <td>3.304134</td>\n",
       "      <td>0.689785</td>\n",
       "    </tr>\n",
       "    <tr>\n",
       "      <th>4</th>\n",
       "      <td>4</td>\n",
       "      <td>10.833032</td>\n",
       "      <td>3.548590</td>\n",
       "      <td>0.244455</td>\n",
       "    </tr>\n",
       "  </tbody>\n",
       "</table>\n",
       "</div>"
      ],
      "text/plain": [
       "   t         x0         v      dvdt\n",
       "0  0   0.000000  0.000000  0.000000\n",
       "1  1   1.365959  1.365959  1.365959\n",
       "2  2   3.980308  2.614350  1.248391\n",
       "3  3   7.284443  3.304134  0.689785\n",
       "4  4  10.833032  3.548590  0.244455"
      ]
     },
     "execution_count": 44,
     "metadata": {},
     "output_type": "execute_result"
    }
   ],
   "source": [
    "v = time_deriv(x0[\"x0\"], x0[\"t\"])\n",
    "x0[\"v\"] = v\n",
    "dvdt = time_deriv(x0[\"v\"], x0[\"t\"])\n",
    "x0[\"dvdt\"] = dvdt\n",
    "x0.head()"
   ]
  },
  {
   "cell_type": "code",
   "execution_count": 48,
   "metadata": {},
   "outputs": [
    {
     "data": {
      "image/png": "[encoded data removed]",
      "text/plain": [
       "<Figure size 432x288 with 1 Axes>"
      ]
     },
     "metadata": {
      "needs_background": "light"
     },
     "output_type": "display_data"
    }
   ],
   "source": [
    "for col in [\"v\", \"dvdt\"]:\n",
    "    plt.plot(x0[\"x0\"], x0[col])"
   ]
  },
  {
   "cell_type": "code",
   "execution_count": 88,
   "metadata": {},
   "outputs": [
    {
     "data": {
      "text/plain": [
       "-0.008372419999989233"
      ]
     },
     "execution_count": 88,
     "metadata": {},
     "output_type": "execute_result"
    }
   ],
   "source": [
    "def moving_avg(x, window):\n",
    "    \n",
    "    curr = len(x)\n",
    "    if window > curr:\n",
    "        print(\"window wider than current data\")\n",
    "    avg = np.average(x[curr:curr-window-1:-1])\n",
    "    \n",
    "    return avg\n",
    "\n",
    "moving_avg(x0[\"dvdt\"], 5)"
   ]
  },
  {
   "cell_type": "code",
   "execution_count": 107,
   "metadata": {},
   "outputs": [
    {
     "name": "stdout",
     "output_type": "stream",
     "text": [
      "window wider than current data\n",
      "window wider than current data\n",
      "window wider than current data\n",
      "window wider than current data\n",
      "window wider than current data\n",
      "0.709717912\n",
      "0.731823082\n",
      "0.4972606027999998\n",
      "0.49856222240000037\n",
      "0.5074810667999998\n",
      "0.7188809340000006\n",
      "0.873381634\n",
      "0.9691769860000001\n",
      "0.9519532219999988\n",
      "0.9241420020000006\n",
      "0.6250756439999996\n",
      "0.47547100799999953\n",
      "0.3089694179999995\n",
      "0.11149975799999937\n",
      "-0.06469286999999468\n",
      "0.011743129999993584\n",
      "-0.06529404399999805\n",
      "0.003984870000002161\n",
      "0.005652680000000032\n",
      "0.03811309999999253\n"
     ]
    }
   ],
   "source": [
    "def moving_avg_np(x, window):\n",
    "    \n",
    "    for i in range(len(x)):\n",
    "        if window > i:\n",
    "            print(\"window wider than current data\")\n",
    "            continue\n",
    "        print(np.average(x[i-window:i:1]))\n",
    "    \n",
    "moving_avg_np(x0[\"dvdt\"], 5)"
   ]
  },
  {
   "cell_type": "code",
   "execution_count": null,
   "metadata": {},
   "outputs": [],
   "source": [
    "while True:\n",
    "    for col in waves.columns[1:]:\n",
    "        #fit column, obtain x0\n",
    "        pass\n",
    "    \n",
    "    v = time_deriv(x0[\"x0\"], x0[\"t\"])\n",
    "    x0[\"v\"] = v\n",
    "    dvdt = time_deriv(x0[\"v\"], x0[\"t\"])\n",
    "    x0[\"dvdt\"] = dvdt\n",
    "    x0.head()"
   ]
  },
  {
   "cell_type": "code",
   "execution_count": 124,
   "metadata": {},
   "outputs": [
    {
     "name": "stdout",
     "output_type": "stream",
     "text": [
      "[0, 1, 2, 3, 4, 5, 6, 7, 8, 9, 10, 11, 12, 13, 14, 15, 16, 17, 18, 19, 20, 21, 22, 23, 24, 25, 26, 27, 28, 29, 30, 31, 32, 33, 34, 35, 36, 37, 38, 39, 40, 41, 42, 43, 44, 45, 46, 47, 48, 49, 50, 51, 52, 53, 54, 55, 56, 57, 58, 59, 60, 61, 62, 63, 64, 65, 66, 67, 68, 69, 70, 71, 72, 73, 74, 75, 76, 77, 78, 79, 80, 81, 82, 83, 84, 85, 86, 87, 88, 89, 90, 91, 92, 93, 94, 95, 96, 97, 98, 99]\n"
     ]
    },
    {
     "data": {
      "text/plain": [
       "1.2551391373973444"
      ]
     },
     "execution_count": 124,
     "metadata": {},
     "output_type": "execute_result"
    }
   ],
   "source": [
    "def wave_generator(upper, lower, sigma, v_final, v_acc, t_step=1, x_range=100):\n",
    "    \n",
    "    x = [pos for pos in range(x_range)]\n",
    "    t = 0\n",
    "    v = 0\n",
    "    x0 = 0\n",
    "    \n",
    "    upper_adj = random_fluxor(upper)\n",
    "    lower_adj = random_fluxor(lower)\n",
    "    sigma_adj = random_fluxor(sigma)\n",
    "    \n",
    "    v = vel_generator(v, v_final, v_acc)\n",
    "    \n",
    "    return v\n",
    "wave_generator(1200, 250, 30, 10, 1.5)"
   ]
  },
  {
   "cell_type": "code",
   "execution_count": 140,
   "metadata": {},
   "outputs": [],
   "source": [
    "def random_fluxor(x):\n",
    "    return x*(1+(np.random.random()-0.5)/10)"
   ]
  },
  {
   "cell_type": "code",
   "execution_count": 123,
   "metadata": {},
   "outputs": [],
   "source": [
    "def vel_generator(v, v_final, v_acc):\n",
    "    if v < v_final:\n",
    "        v = v+v_acc*np.random.random()\n",
    "        return v\n",
    "    else:\n",
    "        v = v_final*(1+np.random.random()/20)\n",
    "    return v"
   ]
  },
  {
   "cell_type": "code",
   "execution_count": 41,
   "metadata": {},
   "outputs": [],
   "source": [
    "def time_deriv(x, t):\n",
    "    deriv = []\n",
    "    for i in range(len(x)):\n",
    "        if i == 0:\n",
    "            deriv.append(0)\n",
    "            continue\n",
    "        dx = (x[i] - x[i-1])\n",
    "        dt = (t[i] - t[i-1])\n",
    "        dxdt = dx/dt\n",
    "        deriv.append(dxdt)\n",
    "    return deriv"
   ]
  }
 ],
 "metadata": {
  "kernelspec": {
   "display_name": "Python 3",
   "language": "python",
   "name": "python3"
  },
  "language_info": {
   "codemirror_mode": {
    "name": "ipython",
    "version": 3
   },
   "file_extension": ".py",
   "mimetype": "text/x-python",
   "name": "python",
   "nbconvert_exporter": "python",
   "pygments_lexer": "ipython3",
   "version": "3.7.1"
  }
 },
 "nbformat": 4,
 "nbformat_minor": 2
}
